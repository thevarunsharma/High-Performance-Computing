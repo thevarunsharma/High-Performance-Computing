{
 "cells": [
  {
   "cell_type": "code",
   "execution_count": 1,
   "metadata": {},
   "outputs": [],
   "source": [
    "import csv"
   ]
  },
  {
   "cell_type": "code",
   "execution_count": 5,
   "metadata": {},
   "outputs": [
    {
     "name": "stdout",
     "output_type": "stream",
     "text": [
      "['x', '-', '-', '-', '-', 'x']\n",
      "['-', 'x', '-', '-', '-', 'x']\n",
      "['-', '-', 'x', '-', '-', '-']\n",
      "['-', '-', 'x', '-', '-', 'x']\n",
      "['-', '-', '-', '-', 'x', '-']\n"
     ]
    }
   ],
   "source": [
    "table = []\n",
    "with open('./ResTableMAL/resv_table.csv', 'r') as fh:\n",
    "    csv_reader = csv.reader(fh)\n",
    "    for row in csv_reader:\n",
    "        print(row)\n",
    "        table.append(row)"
   ]
  },
  {
   "cell_type": "code",
   "execution_count": 6,
   "metadata": {},
   "outputs": [],
   "source": [
    "def get_forbidden_latencies(stage):\n",
    "    lats = set()\n",
    "    for i in range(len(stage)-1):\n",
    "        if stage[i] != 'x':\n",
    "            continue\n",
    "        for j in range(i+1, len(stage)):\n",
    "            if stage[j] == 'x':\n",
    "                lats.add(j-i)\n",
    "    return lats"
   ]
  },
  {
   "cell_type": "code",
   "execution_count": 7,
   "metadata": {},
   "outputs": [
    {
     "data": {
      "text/plain": [
       "{3, 4, 5}"
      ]
     },
     "execution_count": 7,
     "metadata": {},
     "output_type": "execute_result"
    }
   ],
   "source": [
    "forbid_lats = set()\n",
    "for stage in table:\n",
    "    forbid_lats |= get_forbidden_latencies(stage)\n",
    "forbid_lats"
   ]
  },
  {
   "cell_type": "code",
   "execution_count": 8,
   "metadata": {},
   "outputs": [
    {
     "data": {
      "text/plain": [
       "'11100'"
      ]
     },
     "execution_count": 8,
     "metadata": {},
     "output_type": "execute_result"
    }
   ],
   "source": [
    "max_forb = 0\n",
    "coll_vec = 0\n",
    "for lat in forbid_lats:\n",
    "    coll_vec |= 1 << (lat-1)\n",
    "    max_forb = max(max_forb, lat)\n",
    "\"{0:b}\".format(coll_vec)"
   ]
  },
  {
   "cell_type": "code",
   "execution_count": 9,
   "metadata": {},
   "outputs": [],
   "source": [
    "from collections import defaultdict\n",
    "graph = defaultdict(list)\n",
    "done = set()\n",
    "nodes = {coll_vec}\n",
    "while True:\n",
    "    for u in nodes:\n",
    "        if u not in done:\n",
    "            curr = u\n",
    "            break\n",
    "    else:\n",
    "        break\n",
    "    for i in range(max_forb+1):\n",
    "        if not (curr >> i) & 1:\n",
    "            state = (curr >> (i+1)) | coll_vec\n",
    "            graph[curr].append((state, i+1))\n",
    "            nodes.add(state)\n",
    "    done.add(curr)"
   ]
  },
  {
   "cell_type": "code",
   "execution_count": 10,
   "metadata": {},
   "outputs": [
    {
     "name": "stdout",
     "output_type": "stream",
     "text": [
      "11100 -> 11110 : 1\n",
      "11100 -> 11111 : 2\n",
      "11100 -> 11100 : 6\n",
      "11110 -> 11111 : 1\n",
      "11110 -> 11100 : 6\n",
      "11111 -> 11100 : 6\n"
     ]
    }
   ],
   "source": [
    "for u in graph:\n",
    "    for v, w in graph[u]:\n",
    "        print(\"{0:b} -> {1:b} : {2}\".format(u, v, w))"
   ]
  },
  {
   "cell_type": "code",
   "execution_count": 11,
   "metadata": {},
   "outputs": [
    {
     "data": {
      "text/plain": [
       "['11100', '11110', '11111']"
      ]
     },
     "execution_count": 11,
     "metadata": {},
     "output_type": "execute_result"
    }
   ],
   "source": [
    "[\"{0:b}\".format(i) for i in nodes]"
   ]
  },
  {
   "cell_type": "code",
   "execution_count": 12,
   "metadata": {},
   "outputs": [],
   "source": [
    "def find_cycles(G, u, cycle):\n",
    "    Cycles = []\n",
    "    for v, w in G[u]:\n",
    "        if v == cycle[0][0]:\n",
    "            Cycles.append(cycle + [(v, w)])\n",
    "        elif not any(v == c[0] for c in cycle):\n",
    "            for c in find_cycles(G, v, cycle + [(v, w)]): Cycles.append(c)\n",
    "    return Cycles"
   ]
  },
  {
   "cell_type": "code",
   "execution_count": 15,
   "metadata": {},
   "outputs": [],
   "source": [
    "def is_rotated(c1, c2):\n",
    "    c = c1 + c1\n",
    "    for i in range(len(c)-len(c2)+1):\n",
    "        if c[i:i+len(c2)] == c2: return True\n",
    "    return False"
   ]
  },
  {
   "cell_type": "code",
   "execution_count": 16,
   "metadata": {},
   "outputs": [
    {
     "name": "stdout",
     "output_type": "stream",
     "text": [
      "Simple Cycles\tAvg. Latency\n",
      "  (1, 1, 6)  \t    2.67    \n",
      "   (1, 6)    \t    3.50    \n",
      "   (2, 6)    \t    4.00    \n",
      "     (6)     \t    6.00    \n"
     ]
    }
   ],
   "source": [
    "greedy_cycle = None\n",
    "MAL = float('inf')\n",
    "Cycles = {}\n",
    "print(\"Simple Cycles\\tAvg. Latency\")\n",
    "for u in nodes:\n",
    "    for cyc in find_cycles(graph, u, [(u, 0)]):\n",
    "        wts = tuple(i[1] for i in cyc[1:])\n",
    "        avg = sum(wts)/len(wts)\n",
    "        if any((is_rotated(wts, c) and Cycles[c]==avg) for c in Cycles): continue\n",
    "        Cycles[wts] = avg\n",
    "        wts = '('+\", \".join(map(str, wts))+')'\n",
    "        if avg < MAL:\n",
    "            MAL = avg\n",
    "            greedy_cycle = wts\n",
    "        print(\"{0:^13s}\\t{1:^12.2f}\".format(wts, avg))"
   ]
  },
  {
   "cell_type": "code",
   "execution_count": 17,
   "metadata": {},
   "outputs": [
    {
     "name": "stdout",
     "output_type": "stream",
     "text": [
      "Greedy Cycle : (1, 1, 6)\tMAL : 2.67\n",
      "Throughput : 0.38\n"
     ]
    }
   ],
   "source": [
    "print(f\"Greedy Cycle : {greedy_cycle}\\tMAL : {MAL:.2f}\\nThroughput : {1/MAL:.2f}\")"
   ]
  },
  {
   "cell_type": "code",
   "execution_count": null,
   "metadata": {},
   "outputs": [],
   "source": []
  }
 ],
 "metadata": {
  "kernelspec": {
   "display_name": "Python 3",
   "language": "python",
   "name": "python3"
  },
  "language_info": {
   "codemirror_mode": {
    "name": "ipython",
    "version": 3
   },
   "file_extension": ".py",
   "mimetype": "text/x-python",
   "name": "python",
   "nbconvert_exporter": "python",
   "pygments_lexer": "ipython3",
   "version": "3.6.8"
  }
 },
 "nbformat": 4,
 "nbformat_minor": 2
}
