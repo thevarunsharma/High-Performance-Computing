{
 "cells": [
  {
   "cell_type": "code",
   "execution_count": 1,
   "metadata": {},
   "outputs": [],
   "source": [
    "import numpy as np\n",
    "import pandas as pd"
   ]
  },
  {
   "cell_type": "code",
   "execution_count": 2,
   "metadata": {},
   "outputs": [
    {
     "data": {
      "text/html": [
       "<div>\n",
       "<style scoped>\n",
       "    .dataframe tbody tr th:only-of-type {\n",
       "        vertical-align: middle;\n",
       "    }\n",
       "\n",
       "    .dataframe tbody tr th {\n",
       "        vertical-align: top;\n",
       "    }\n",
       "\n",
       "    .dataframe thead th {\n",
       "        text-align: right;\n",
       "    }\n",
       "</style>\n",
       "<table border=\"1\" class=\"dataframe\">\n",
       "  <thead>\n",
       "    <tr style=\"text-align: right;\">\n",
       "      <th></th>\n",
       "      <th>DAY</th>\n",
       "      <th>OUTLOOK</th>\n",
       "      <th>TEMPERATURE</th>\n",
       "      <th>HUMIDITY</th>\n",
       "      <th>WIND</th>\n",
       "      <th>PLAY</th>\n",
       "    </tr>\n",
       "  </thead>\n",
       "  <tbody>\n",
       "    <tr>\n",
       "      <th>0</th>\n",
       "      <td>D1</td>\n",
       "      <td>Sunny</td>\n",
       "      <td>Hot</td>\n",
       "      <td>High</td>\n",
       "      <td>Weak</td>\n",
       "      <td>No</td>\n",
       "    </tr>\n",
       "    <tr>\n",
       "      <th>1</th>\n",
       "      <td>D2</td>\n",
       "      <td>Sunny</td>\n",
       "      <td>Hot</td>\n",
       "      <td>High</td>\n",
       "      <td>Strong</td>\n",
       "      <td>No</td>\n",
       "    </tr>\n",
       "    <tr>\n",
       "      <th>2</th>\n",
       "      <td>D3</td>\n",
       "      <td>Overcast</td>\n",
       "      <td>Hot</td>\n",
       "      <td>High</td>\n",
       "      <td>Weak</td>\n",
       "      <td>Yes</td>\n",
       "    </tr>\n",
       "    <tr>\n",
       "      <th>3</th>\n",
       "      <td>D4</td>\n",
       "      <td>Rain</td>\n",
       "      <td>Mild</td>\n",
       "      <td>High</td>\n",
       "      <td>Weak</td>\n",
       "      <td>Yes</td>\n",
       "    </tr>\n",
       "    <tr>\n",
       "      <th>4</th>\n",
       "      <td>D5</td>\n",
       "      <td>Rain</td>\n",
       "      <td>Cool</td>\n",
       "      <td>Normal</td>\n",
       "      <td>Weak</td>\n",
       "      <td>Yes</td>\n",
       "    </tr>\n",
       "    <tr>\n",
       "      <th>5</th>\n",
       "      <td>D6</td>\n",
       "      <td>Rain</td>\n",
       "      <td>Cool</td>\n",
       "      <td>Normal</td>\n",
       "      <td>Strong</td>\n",
       "      <td>No</td>\n",
       "    </tr>\n",
       "    <tr>\n",
       "      <th>6</th>\n",
       "      <td>D7</td>\n",
       "      <td>Overcast</td>\n",
       "      <td>Cool</td>\n",
       "      <td>Normal</td>\n",
       "      <td>Strong</td>\n",
       "      <td>Yes</td>\n",
       "    </tr>\n",
       "    <tr>\n",
       "      <th>7</th>\n",
       "      <td>D8</td>\n",
       "      <td>Sunny</td>\n",
       "      <td>Mild</td>\n",
       "      <td>High</td>\n",
       "      <td>Weak</td>\n",
       "      <td>No</td>\n",
       "    </tr>\n",
       "    <tr>\n",
       "      <th>8</th>\n",
       "      <td>D9</td>\n",
       "      <td>Sunny</td>\n",
       "      <td>Cool</td>\n",
       "      <td>Normal</td>\n",
       "      <td>Weak</td>\n",
       "      <td>Yes</td>\n",
       "    </tr>\n",
       "    <tr>\n",
       "      <th>9</th>\n",
       "      <td>D10</td>\n",
       "      <td>Rain</td>\n",
       "      <td>Mild</td>\n",
       "      <td>Normal</td>\n",
       "      <td>Weak</td>\n",
       "      <td>Yes</td>\n",
       "    </tr>\n",
       "    <tr>\n",
       "      <th>10</th>\n",
       "      <td>D11</td>\n",
       "      <td>Sunny</td>\n",
       "      <td>Mild</td>\n",
       "      <td>Normal</td>\n",
       "      <td>Strong</td>\n",
       "      <td>Yes</td>\n",
       "    </tr>\n",
       "    <tr>\n",
       "      <th>11</th>\n",
       "      <td>D12</td>\n",
       "      <td>Overcast</td>\n",
       "      <td>Mild</td>\n",
       "      <td>High</td>\n",
       "      <td>Strong</td>\n",
       "      <td>Yes</td>\n",
       "    </tr>\n",
       "    <tr>\n",
       "      <th>12</th>\n",
       "      <td>D13</td>\n",
       "      <td>Overcast</td>\n",
       "      <td>Hot</td>\n",
       "      <td>Normal</td>\n",
       "      <td>Weak</td>\n",
       "      <td>Yes</td>\n",
       "    </tr>\n",
       "    <tr>\n",
       "      <th>13</th>\n",
       "      <td>D14</td>\n",
       "      <td>Rain</td>\n",
       "      <td>Mild</td>\n",
       "      <td>High</td>\n",
       "      <td>Strong</td>\n",
       "      <td>No</td>\n",
       "    </tr>\n",
       "  </tbody>\n",
       "</table>\n",
       "</div>"
      ],
      "text/plain": [
       "    DAY   OUTLOOK TEMPERATURE HUMIDITY    WIND PLAY\n",
       "0    D1     Sunny         Hot     High    Weak   No\n",
       "1    D2     Sunny         Hot     High  Strong   No\n",
       "2    D3  Overcast         Hot     High    Weak  Yes\n",
       "3    D4      Rain        Mild     High    Weak  Yes\n",
       "4    D5      Rain        Cool   Normal    Weak  Yes\n",
       "5    D6      Rain        Cool   Normal  Strong   No\n",
       "6    D7  Overcast        Cool   Normal  Strong  Yes\n",
       "7    D8     Sunny        Mild     High    Weak   No\n",
       "8    D9     Sunny        Cool   Normal    Weak  Yes\n",
       "9   D10      Rain        Mild   Normal    Weak  Yes\n",
       "10  D11     Sunny        Mild   Normal  Strong  Yes\n",
       "11  D12  Overcast        Mild     High  Strong  Yes\n",
       "12  D13  Overcast         Hot   Normal    Weak  Yes\n",
       "13  D14      Rain        Mild     High  Strong   No"
      ]
     },
     "execution_count": 2,
     "metadata": {},
     "output_type": "execute_result"
    }
   ],
   "source": [
    "data = pd.read_csv(\"tennis.csv\")\n",
    "data"
   ]
  },
  {
   "cell_type": "code",
   "execution_count": 3,
   "metadata": {},
   "outputs": [
    {
     "data": {
      "text/plain": [
       "({'OUTLOOK': 0, 'TEMPERATURE': 1, 'HUMIDITY': 2, 'WIND': 3},\n",
       " array([['Sunny', 'Hot', 'High', 'Weak'],\n",
       "        ['Sunny', 'Hot', 'High', 'Strong'],\n",
       "        ['Overcast', 'Hot', 'High', 'Weak'],\n",
       "        ['Rain', 'Mild', 'High', 'Weak'],\n",
       "        ['Rain', 'Cool', 'Normal', 'Weak'],\n",
       "        ['Rain', 'Cool', 'Normal', 'Strong'],\n",
       "        ['Overcast', 'Cool', 'Normal', 'Strong'],\n",
       "        ['Sunny', 'Mild', 'High', 'Weak'],\n",
       "        ['Sunny', 'Cool', 'Normal', 'Weak'],\n",
       "        ['Rain', 'Mild', 'Normal', 'Weak'],\n",
       "        ['Sunny', 'Mild', 'Normal', 'Strong'],\n",
       "        ['Overcast', 'Mild', 'High', 'Strong'],\n",
       "        ['Overcast', 'Hot', 'Normal', 'Weak'],\n",
       "        ['Rain', 'Mild', 'High', 'Strong']], dtype=object),\n",
       " array([0, 0, 1, 1, 1, 0, 1, 0, 1, 1, 1, 1, 1, 0]),\n",
       " (14, 4),\n",
       " (14,))"
      ]
     },
     "execution_count": 3,
     "metadata": {},
     "output_type": "execute_result"
    }
   ],
   "source": [
    "A = {data.columns[i]:i-1 for i in range(1, data.shape[1]-1)}\n",
    "X = np.array(data)[:,1:-1]\n",
    "Y = (np.array(data)[:,-1] == \"Yes\").astype('int')\n",
    "A, X, Y, X.shape, Y.shape"
   ]
  },
  {
   "cell_type": "code",
   "execution_count": 4,
   "metadata": {},
   "outputs": [],
   "source": [
    "from dec_tree import ID3DecisionTree"
   ]
  },
  {
   "cell_type": "code",
   "execution_count": 10,
   "metadata": {},
   "outputs": [],
   "source": [
    "tree = ID3DecisionTree(X, Y, A)"
   ]
  },
  {
   "cell_type": "code",
   "execution_count": 11,
   "metadata": {},
   "outputs": [
    {
     "name": "stdout",
     "output_type": "stream",
     "text": [
      "OUTLOOK (IG = 0.247):\n",
      "    - Sunny -> HUMIDITY (IG = 0.971):\n",
      "       - High -> output : 0\n",
      "       - Normal -> output : 1\n",
      "    - Overcast -> output : 1\n",
      "    - Rain -> WIND (IG = 0.971):\n",
      "       - Weak -> output : 1\n",
      "       - Strong -> output : 0\n"
     ]
    }
   ],
   "source": [
    "tree.show_tree()"
   ]
  },
  {
   "cell_type": "code",
   "execution_count": 7,
   "metadata": {},
   "outputs": [],
   "source": [
    "# use tree.predict to predict on your own eg's"
   ]
  },
  {
   "cell_type": "code",
   "execution_count": null,
   "metadata": {},
   "outputs": [],
   "source": []
  }
 ],
 "metadata": {
  "kernelspec": {
   "display_name": "Python 3",
   "language": "python",
   "name": "python3"
  },
  "language_info": {
   "codemirror_mode": {
    "name": "ipython",
    "version": 3
   },
   "file_extension": ".py",
   "mimetype": "text/x-python",
   "name": "python",
   "nbconvert_exporter": "python",
   "pygments_lexer": "ipython3",
   "version": "3.6.8"
  }
 },
 "nbformat": 4,
 "nbformat_minor": 2
}
